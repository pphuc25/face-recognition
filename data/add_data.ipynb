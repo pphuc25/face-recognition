{
 "cells": [
  {
   "cell_type": "code",
   "execution_count": 1,
   "metadata": {},
   "outputs": [],
   "source": [
    "import convfacenet\n",
    "import numpy as np\n",
    "from PIL import Image\n",
    "from scipy.spatial import distance\n",
    "import pickle"
   ]
  },
  {
   "cell_type": "code",
   "execution_count": 2,
   "metadata": {},
   "outputs": [],
   "source": [
    "with open('database.pickle', 'rb') as file:\n",
    "    serialized_data = file.read()\n",
    "\n",
    "database = pickle.loads(serialized_data)"
   ]
  },
  {
   "cell_type": "code",
   "execution_count": 4,
   "metadata": {},
   "outputs": [
    {
     "name": "stderr",
     "output_type": "stream",
     "text": [
      "/home/pphuc/miniconda3/envs/web/lib/python3.9/site-packages/torchvision/models/_utils.py:208: UserWarning: The parameter 'pretrained' is deprecated since 0.13 and may be removed in the future, please use 'weights' instead.\n",
      "  warnings.warn(\n",
      "/home/pphuc/miniconda3/envs/web/lib/python3.9/site-packages/torchvision/models/_utils.py:223: UserWarning: Arguments other than a weight enum or `None` for 'weights' are deprecated since 0.13 and may be removed in the future. The current behavior is equivalent to passing `weights=None`.\n",
      "  warnings.warn(msg)\n"
     ]
    }
   ],
   "source": [
    "person_path = 'images/phan_phuc.png'\n",
    "person_image=convfacenet.load_image(person_path)\n",
    "person_image= convfacenet.detect_face(person_image)\n",
    "person_image = np.array(person_image[0], dtype=np.uint8)\n",
    "person_image = Image.fromarray(person_image)\n",
    "\n",
    "phan_phuc = convfacenet.faces_features(person_image)"
   ]
  },
  {
   "cell_type": "code",
   "execution_count": 18,
   "metadata": {},
   "outputs": [],
   "source": [
    "new_data = {\n",
    "    'name': 'Phan Van Phuc',\n",
    "    'face_feature': phan_phuc[0]\n",
    "}\n",
    "\n",
    "# database.append(new_data)"
   ]
  },
  {
   "cell_type": "code",
   "execution_count": 13,
   "metadata": {},
   "outputs": [],
   "source": [
    "serialized_data = pickle.dumps(database)\n",
    "\n",
    "# Save the serialized data to a file\n",
    "with open('database.pickle', 'wb') as file:\n",
    "    file.write(serialized_data)"
   ]
  },
  {
   "cell_type": "code",
   "execution_count": 15,
   "metadata": {},
   "outputs": [],
   "source": [
    "# with open('database.pickle', 'rb') as file:\n",
    "#     serialized_data = file.read()\n",
    "\n",
    "# database = pickle.loads(serialized_data)"
   ]
  },
  {
   "cell_type": "code",
   "execution_count": null,
   "metadata": {},
   "outputs": [],
   "source": []
  }
 ],
 "metadata": {
  "kernelspec": {
   "display_name": "web",
   "language": "python",
   "name": "python3"
  },
  "language_info": {
   "codemirror_mode": {
    "name": "ipython",
    "version": 3
   },
   "file_extension": ".py",
   "mimetype": "text/x-python",
   "name": "python",
   "nbconvert_exporter": "python",
   "pygments_lexer": "ipython3",
   "version": "3.9.16"
  },
  "orig_nbformat": 4
 },
 "nbformat": 4,
 "nbformat_minor": 2
}
